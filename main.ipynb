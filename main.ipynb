{
 "cells": [
  {
   "cell_type": "code",
<<<<<<< HEAD
   "execution_count": 12,
   "metadata": {},
   "outputs": [
    {
     "ename": "ImportError",
     "evalue": "No module named 'midi_to_statematrix'",
     "output_type": "error",
     "traceback": [
      "\u001b[0;31m---------------------------------------------------------------------------\u001b[0m",
      "\u001b[0;31mImportError\u001b[0m                               Traceback (most recent call last)",
      "\u001b[0;32m<ipython-input-12-4941394d8bb2>\u001b[0m in \u001b[0;36m<module>\u001b[0;34m()\u001b[0m\n\u001b[1;32m      1\u001b[0m \u001b[0;32mimport\u001b[0m \u001b[0mtensorflow\u001b[0m \u001b[0;32mas\u001b[0m \u001b[0mtf\u001b[0m\u001b[0;34m\u001b[0m\u001b[0m\n\u001b[1;32m      2\u001b[0m \u001b[0;32mfrom\u001b[0m \u001b[0mfunc\u001b[0m\u001b[0;34m.\u001b[0m\u001b[0mmidi_to_statematrix\u001b[0m \u001b[0;32mimport\u001b[0m \u001b[0;34m*\u001b[0m\u001b[0;34m\u001b[0m\u001b[0m\n\u001b[0;32m----> 3\u001b[0;31m \u001b[0;32mimport\u001b[0m \u001b[0mfunc\u001b[0m\u001b[0;34m.\u001b[0m\u001b[0mmulti_training\u001b[0m\u001b[0;34m\u001b[0m\u001b[0m\n\u001b[0m\u001b[1;32m      4\u001b[0m \u001b[0;32mimport\u001b[0m \u001b[0mos\u001b[0m\u001b[0;34m\u001b[0m\u001b[0m\n\u001b[1;32m      5\u001b[0m \u001b[0;34m\u001b[0m\u001b[0m\n",
      "\u001b[0;32m/Users/nathantoubiana/Documents/GitHub/deep_amadeus_project/func/multi_training.py\u001b[0m in \u001b[0;36m<module>\u001b[0;34m()\u001b[0m\n\u001b[1;32m      1\u001b[0m \u001b[0;32mimport\u001b[0m \u001b[0mos\u001b[0m\u001b[0;34m,\u001b[0m \u001b[0mrandom\u001b[0m\u001b[0;34m\u001b[0m\u001b[0m\n\u001b[0;32m----> 2\u001b[0;31m \u001b[0;32mfrom\u001b[0m \u001b[0mmidi_to_statematrix\u001b[0m \u001b[0;32mimport\u001b[0m \u001b[0;34m*\u001b[0m\u001b[0;34m\u001b[0m\u001b[0m\n\u001b[0m\u001b[1;32m      3\u001b[0m \u001b[0;32mfrom\u001b[0m \u001b[0mdata\u001b[0m \u001b[0;32mimport\u001b[0m \u001b[0;34m*\u001b[0m\u001b[0;34m\u001b[0m\u001b[0m\n\u001b[1;32m      4\u001b[0m \u001b[0;31m#import cPickle as pickle\u001b[0m\u001b[0;34m\u001b[0m\u001b[0;34m\u001b[0m\u001b[0m\n\u001b[1;32m      5\u001b[0m \u001b[0;32mimport\u001b[0m \u001b[0mpickle\u001b[0m\u001b[0;34m\u001b[0m\u001b[0m\n",
      "\u001b[0;31mImportError\u001b[0m: No module named 'midi_to_statematrix'"
     ]
    }
   ],
=======
   "execution_count": 8,
   "metadata": {
    "collapsed": false
   },
   "outputs": [],
>>>>>>> b1da9303293e4b674dba8f037f08a88522d94ead
   "source": [
    "import tensorflow as tf\n",
    "from func.midi_to_statematrix import *\n",
    "import func.multi_training\n",
    "import os\n",
    "\n",
    "path = os.getcwd()"
   ]
  },
  {
   "cell_type": "code",
<<<<<<< HEAD
   "execution_count": 14,
   "metadata": {},
   "outputs": [
    {
     "name": "stdout",
     "output_type": "stream",
     "text": [
      "\u001b[34m__pycache__\u001b[m\u001b[m/            midi_to_statematrix.py\r\n",
      "data.py                 multi_training.py\r\n"
     ]
    }
   ],
   "source": [
    "ls"
   ]
  },
  {
   "cell_type": "code",
   "execution_count": 8,
   "metadata": {},
   "outputs": [],
   "source": [
    "import midi"
   ]
  },
  {
   "cell_type": "code",
   "execution_count": 25,
   "metadata": {},
=======
   "execution_count": 7,
   "metadata": {
    "collapsed": false
   },
>>>>>>> b1da9303293e4b674dba8f037f08a88522d94ead
   "outputs": [
    {
     "ename": "NameError",
     "evalue": "name 'multi_training' is not defined",
     "output_type": "error",
     "traceback": [
      "\u001b[1;31m---------------------------------------------------------------------------\u001b[0m",
      "\u001b[1;31mNameError\u001b[0m                                 Traceback (most recent call last)",
      "\u001b[1;32m<ipython-input-7-eee965cccfe1>\u001b[0m in \u001b[0;36m<module>\u001b[1;34m()\u001b[0m\n\u001b[1;32m----> 1\u001b[1;33m \u001b[0mpcs\u001b[0m \u001b[1;33m=\u001b[0m \u001b[0mmulti_training\u001b[0m\u001b[1;33m.\u001b[0m\u001b[0mloadPieces\u001b[0m\u001b[1;33m(\u001b[0m\u001b[0mpath\u001b[0m  \u001b[1;33m+\u001b[0m \u001b[1;34m'\\music_test'\u001b[0m\u001b[1;33m)\u001b[0m\u001b[1;33m\u001b[0m\u001b[0m\n\u001b[0m",
      "\u001b[1;31mNameError\u001b[0m: name 'multi_training' is not defined"
     ]
    }
   ],
   "source": [
    "pcs = multi_training.loadPieces(path  + '\\music_test')"
   ]
  },
  {
   "cell_type": "code",
   "execution_count": 19,
   "metadata": {},
   "outputs": [
    {
     "data": {
      "text/plain": [
       "78"
      ]
     },
     "execution_count": 19,
     "metadata": {},
     "output_type": "execute_result"
    }
   ],
   "source": [
    "len(pcs['beethoven_hammerklavier_1'][0])"
   ]
  },
  {
   "cell_type": "code",
   "execution_count": 3,
   "metadata": {},
   "outputs": [],
   "source": [
    "t_layer_sizes = [300,300]\n",
    "p_layer_sizes = [100,50]\n",
    "\n",
    "\n",
    "t_input_size = 80\n",
    "            \n",
    "\n",
    "#Lstm input data recquires size : batch_size,max_time (spanning back how many time steps), ect..\n",
    "xs = tf.placeholder(tf.float32, [None,None, t_input_size])\n",
    "ys = tf.placeholder(tf.float32, [None,None, t_input_size])\n",
    "       \n",
    "\n",
    "       \n",
    "lstm_time=[]\n",
    "        \n",
    "for i in t_layer_sizes:\n",
    "    lstm_time.append(tf.contrib.rnn.LSTMCell(i)) \n",
    "            \n",
    "time_model=tf.contrib.rnn.MultiRNNCell(lstm_time)        \n",
    "init_state_time=time_model.zero_state(tf.shape(ys)[0],tf.float32)\n",
    "with tf.variable_scope('lstm1'):\n",
    "    outputs_time,final_state_time=tf.nn.dynamic_rnn(time_model, xs, initial_state = init_state_time, dtype = tf.float32)\n",
    "    \n",
    "        \n",
    "p_input_size = t_layer_sizes[-1] + 2\n",
    "\n",
    "\n",
    "lstm_pitch=[]\n",
    "\n",
    "for i in p_layer_sizes:\n",
    "    lstm_pitch.append(tf.contrib.rnn.LSTMCell(i))\n",
    "lstm_pitch.append(tf.contrib.rnn.LSTMCell(t_input_size))            \n",
    "\n",
    "pitch_model=tf.contrib.rnn.MultiRNNCell(lstm_pitch)\n",
    "\n",
    "init_state_pitch=pitch_model.zero_state(tf.shape(ys)[0],tf.float32)\n",
    "with tf.variable_scope('lstm2'):\n",
    "    outputs_pitch,final_state_pitch=tf.nn.dynamic_rnn(pitch_model,outputs_time,initial_state = init_state_pitch,dtype = tf.float32)\n",
    "\n",
    "loss=tf.nn.sigmoid_cross_entropy_with_logits(labels=outputs_pitch,logits=ys)\n",
    "loss=tf.reduce_mean(loss)"
   ]
  },
  {
   "cell_type": "code",
   "execution_count": 9,
   "metadata": {
    "collapsed": true
   },
   "outputs": [],
   "source": [
    "init = tf.global_variables_initializer()\n",
    "cost_plot_list = []\n",
    "accuracy_plot_list = []\n",
    "\n",
    "with tf.Session() as sess:\n",
    "    sess.run(init)\n",
    "    for i in range(100):\n",
    "        sess.run(optimizer, feed_dict={input_data: data[:75,:,:], output_data: output[:75,:]})\n",
    "        cost, acc =sess.run([loss,accuracy], feed_dict={input_data: data[75:,:,:], output_data: output[75:,:]})\n",
    "        cost_plot_list.append(cost)\n",
    "        accuracy_plot_list.append(acc)"
   ]
  },
  {
   "cell_type": "code",
   "execution_count": null,
   "metadata": {
    "collapsed": true
   },
   "outputs": [],
   "source": []
  }
 ],
 "metadata": {
  "anaconda-cloud": {},
  "kernelspec": {
   "display_name": "Python [conda root]",
   "language": "python",
   "name": "conda-root-py"
  },
  "language_info": {
   "codemirror_mode": {
    "name": "ipython",
    "version": 3
   },
   "file_extension": ".py",
   "mimetype": "text/x-python",
   "name": "python",
   "nbconvert_exporter": "python",
   "pygments_lexer": "ipython3",
   "version": "3.5.4"
  }
 },
 "nbformat": 4,
 "nbformat_minor": 2
}
